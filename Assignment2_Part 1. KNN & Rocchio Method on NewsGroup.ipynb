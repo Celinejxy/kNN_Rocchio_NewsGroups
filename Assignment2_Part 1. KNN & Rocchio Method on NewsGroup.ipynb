{
 "cells": [
  {
   "cell_type": "markdown",
   "id": "40e3b73c",
   "metadata": {},
   "source": [
    "## DSC 478 Assignment2_Part 1. KNN & Rocchio Method on NewsGroup\n",
    "\n",
    "Xuyang Ji <br> Jan 31st, 2023"
   ]
  },
  {
   "cell_type": "code",
   "execution_count": 1,
   "id": "ec589224",
   "metadata": {},
   "outputs": [],
   "source": [
    "import numpy as np\n",
    "import pandas as pd\n",
    "import matplotlib.pyplot as plt\n",
    "import operator #for sorting \n",
    "from sklearn import preprocessing # for normalization \n",
    "from collections import Counter #finding the majority \n",
    "%matplotlib inline\n",
    "# get rid of warning–>RuntimeWarning: divide by zero \n",
    "#encountered in true_divide in computing TF-IDF matrix \n",
    "import warnings \n",
    "warnings.filterwarnings(\"ignore\")"
   ]
  },
  {
   "cell_type": "markdown",
   "id": "a9c0cfb7",
   "metadata": {},
   "source": [
    "### I. Data Preprocessing\n",
    "\n",
    "The Newsgroup subset contains 1,000 documents, represented as bags of its words across 5,500 terms, with each value represent raw term occurance counts. The bag-of-words structure is used in methods of document classification including _**K-Nearest Neighbors**_ Method and _**Relevant Feedback**_, where the occurance of each word is used as a feature for training the classifiers. Each document belongs to one of the two classes, _**Hockey with class label 1**_ or _**Microsoft Windows with class label 0**_. The data has already been split into training and test data, detailed structure as follows. \n",
    "\n",
    "\n",
    "* train: The term-document frequency matrix for the train set, containing 5500 terms and 800 documents.\n",
    "\n",
    "\n",
    "* test: The term-document frequency for the test set, containing 5500 rows and 200 columns.\n",
    "\n",
    "\n",
    "* train_lab: The file contains the labels associated with each training document.The classId refers to one of the two classes and takes one of the values 0 (for Windows) or 1 (for Hockey).\n",
    "\n",
    "\n",
    "* test_lab: This file contains the labels associated with each test document.\n",
    "\n",
    "\n",
    "* terms: This file contains the set of 5500 terms in the vocabulary. Each line contains a term and corresponds to the corresponding rows in term-document frequency matrices. \n"
   ]
  },
  {
   "cell_type": "code",
   "execution_count": 2,
   "id": "be8ccf0f",
   "metadata": {},
   "outputs": [],
   "source": [
    "#Load datasets \n",
    "train = pd.read_table('trainMatrixModified.txt', header = None)\n",
    "test = pd.read_table('testMatrixModified.txt', header = None)\n",
    "train_lab = pd.read_table('trainClasses.txt', header = None,index_col = 0)\n",
    "test_lab = pd.read_table('testClasses.txt', header = None, index_col = 0)\n",
    "terms = pd.read_table('modifiedterms.txt', header = None)\n"
   ]
  },
  {
   "cell_type": "markdown",
   "id": "f1dab1d3",
   "metadata": {},
   "source": [
    "#### I.a. Zipf Distribution in Training Data\n",
    "\n",
    "By calculating the frequency that each word appears in the documents, _**subject**_ and _**window**_ are the top 2 most commonly presented words in the training dataset. The term frequency indicates that those two words are most significant within the overall document. As shown in the plot, the less frequent data are lumped together at the end of the frequency spectrum, where their frequency is not distinguishable and can mess up the classification algorithm. "
   ]
  },
  {
   "cell_type": "code",
   "execution_count": 3,
   "id": "e10a513a",
   "metadata": {},
   "outputs": [
    {
     "data": {
      "text/html": [
       "<div>\n",
       "<style scoped>\n",
       "    .dataframe tbody tr th:only-of-type {\n",
       "        vertical-align: middle;\n",
       "    }\n",
       "\n",
       "    .dataframe tbody tr th {\n",
       "        vertical-align: top;\n",
       "    }\n",
       "\n",
       "    .dataframe thead th {\n",
       "        text-align: right;\n",
       "    }\n",
       "</style>\n",
       "<table border=\"1\" class=\"dataframe\">\n",
       "  <thead>\n",
       "    <tr style=\"text-align: right;\">\n",
       "      <th></th>\n",
       "      <th>Count</th>\n",
       "      <th>0</th>\n",
       "    </tr>\n",
       "  </thead>\n",
       "  <tbody>\n",
       "    <tr>\n",
       "      <th>3</th>\n",
       "      <td>959.0</td>\n",
       "      <td>subject</td>\n",
       "    </tr>\n",
       "    <tr>\n",
       "      <th>225</th>\n",
       "      <td>720.0</td>\n",
       "      <td>window</td>\n",
       "    </tr>\n",
       "    <tr>\n",
       "      <th>136</th>\n",
       "      <td>680.0</td>\n",
       "      <td>game</td>\n",
       "    </tr>\n",
       "    <tr>\n",
       "      <th>1682</th>\n",
       "      <td>578.0</td>\n",
       "      <td>do</td>\n",
       "    </tr>\n",
       "    <tr>\n",
       "      <th>115</th>\n",
       "      <td>545.0</td>\n",
       "      <td>get</td>\n",
       "    </tr>\n",
       "    <tr>\n",
       "      <th>...</th>\n",
       "      <td>...</td>\n",
       "      <td>...</td>\n",
       "    </tr>\n",
       "    <tr>\n",
       "      <th>5335</th>\n",
       "      <td>1.0</td>\n",
       "      <td>retain</td>\n",
       "    </tr>\n",
       "    <tr>\n",
       "      <th>5324</th>\n",
       "      <td>1.0</td>\n",
       "      <td>brother</td>\n",
       "    </tr>\n",
       "    <tr>\n",
       "      <th>5319</th>\n",
       "      <td>1.0</td>\n",
       "      <td>graduat</td>\n",
       "    </tr>\n",
       "    <tr>\n",
       "      <th>5317</th>\n",
       "      <td>1.0</td>\n",
       "      <td>julia</td>\n",
       "    </tr>\n",
       "    <tr>\n",
       "      <th>4397</th>\n",
       "      <td>1.0</td>\n",
       "      <td>shooter</td>\n",
       "    </tr>\n",
       "  </tbody>\n",
       "</table>\n",
       "<p>5500 rows × 2 columns</p>\n",
       "</div>"
      ],
      "text/plain": [
       "      Count        0\n",
       "3     959.0  subject\n",
       "225   720.0   window\n",
       "136   680.0     game\n",
       "1682  578.0       do\n",
       "115   545.0      get\n",
       "...     ...      ...\n",
       "5335    1.0   retain\n",
       "5324    1.0  brother\n",
       "5319    1.0  graduat\n",
       "5317    1.0    julia\n",
       "4397    1.0  shooter\n",
       "\n",
       "[5500 rows x 2 columns]"
      ]
     },
     "execution_count": 3,
     "metadata": {},
     "output_type": "execute_result"
    }
   ],
   "source": [
    "#Compute term frequencies across all documents in the training set \n",
    "#to get idea of term distributions\n",
    "termFreqs = train.sum(axis=1)\n",
    "tf= pd.DataFrame({'Count': termFreqs.values})\n",
    "tf= tf.join(terms)\n",
    "tf.sort_values(by=\"Count\",ascending=False)"
   ]
  },
  {
   "cell_type": "code",
   "execution_count": 4,
   "id": "43cf584e",
   "metadata": {},
   "outputs": [
    {
     "data": {
      "image/png": "[encoded data removed]",
      "text/plain": [
       "<Figure size 300x300 with 1 Axes>"
      ]
     },
     "metadata": {},
     "output_type": "display_data"
    }
   ],
   "source": [
    "#plot the distribution\n",
    "plt.rcParams['figure.figsize'] = [3, 3]\n",
    "plt.plot(sorted(tf.Count, reverse=True))\n",
    "plt.xlabel(\"Term\")\n",
    "plt.ylabel(\"Frequency\")\n",
    "plt.show()"
   ]
  },
  {
   "cell_type": "markdown",
   "id": "430ffbd3",
   "metadata": {},
   "source": [
    "#### I.b. Data Prepation "
   ]
  },
  {
   "cell_type": "code",
   "execution_count": 5,
   "id": "0802c87f",
   "metadata": {},
   "outputs": [],
   "source": [
    "# Process Term*Document dataframe to Document*Term matrix \n",
    "DT_train = np.array(train.T)\n",
    "DT_test = np.array(test.T)\n",
    "\n",
    "#Process training labels into array,\n",
    "#return a copy of array collapsed into 1 dimension \n",
    "train_lab_array= np.array(train_lab).flatten()\n",
    "test_lab_array= np.array(test_lab).flatten()"
   ]
  },
  {
   "cell_type": "markdown",
   "id": "0209a1d8",
   "metadata": {},
   "source": [
    "### II.  K-Nearest-Neighbor Algorithm \n",
    "\n",
    "The KNN method classify a new instance by finding the training documents that are nearest to the new instance, and assign the instance to the most frequently occuring class. \n",
    "\n",
    "#### II.a. KNN Search & KNN Classify Function\n",
    "\n",
    "The _**knn_search**_ function takes as input the training data matrix,  the instance to be classified, the value of K (number of neighbors), and the distance metric method; and return the indices of the top K neighbors and the inverse of Cosine Similarity or Euclidean Distance from the top K neighbors. \n",
    "\n",
    "The  _**knn_classify**_ function takes as input the training data matrix, the training labels, the instance to be classified, the value of K (number of neighbors), and the distance metric method; and return the label associated with the highest number of count among the neighbors, and the indices of nerighbors. "
   ]
  },
  {
   "cell_type": "code",
   "execution_count": 6,
   "id": "337611aa",
   "metadata": {},
   "outputs": [],
   "source": [
    "def knn_search(x, D, K, measure):\n",
    "    \"\"\"Finding K-nearest neighbors of an instance x among the \n",
    "    instances in document*term matrix D,using Euclidean distance or Cosine dissimilarity\"\"\"\n",
    "    if measure == 0:\n",
    "        # Using Euclidean distances between instance x and other points in D\n",
    "        dist = np.sqrt(((D-x)**2).sum(axis=1))\n",
    "    elif measure ==1:\n",
    "        # Using Cosine distance \n",
    "        # First finding the vector L2-norm for each instance in D and for x\n",
    "        D_norm = np.array([np.linalg.norm(D[i])for i in range(len(D))])\n",
    "        x_norm= np.linalg.norm(x)\n",
    "        #Compute Cosine Similarity sim(D,x) with function call \n",
    "        sim= np.dot(D,x)/(D_norm*x_norm)\n",
    "        dist= 1-sim\n",
    "    #sorting distances in ascending order, return an array of indices \n",
    "    idx= np.argsort(dist)\n",
    "    #Return the indice of the top K neighbors\n",
    "    return idx[:K],dist\n",
    "\n",
    "def knn_classify(x, D, K, terms, measure):\n",
    "    \"\"\"Identifying the label for x, using the majority label of the K nearest neignbors \"\"\"\n",
    "    from collections import Counter \n",
    "    # Getting K nearest neighbors distances&indexes\n",
    "    neighbor_idx, distances= knn_search(x, D, K, measure)\n",
    "    #Getting neighbors labels \n",
    "    neighbor_term = terms[neighbor_idx]\n",
    "    #return indexes as dict keys and their counts as dict values \n",
    "    count= Counter(neighbor_term)\n",
    "    #return one label associated with the highest number of count\n",
    "    category= count.most_common(1)[0][0]\n",
    "    return neighbor_idx, category\n",
    "    "
   ]
  },
  {
   "cell_type": "code",
   "execution_count": 7,
   "id": "b2051768",
   "metadata": {
    "scrolled": false
   },
   "outputs": [
    {
     "name": "stdout",
     "output_type": "stream",
     "text": [
      "The indices of KNN are:[334 177 233 715 732 510 221 178  94 254]\n",
      "The predicted class is: 1\n"
     ]
    }
   ],
   "source": [
    "##KNN Classifier test of measure 1\n",
    "\n",
    "top_K_neighbors, predicted_category = knn_classify(DT_test[12],DT_train,10,train_lab_array,1)\n",
    "print(\"The indices of KNN are:{}\\nThe predicted class is: {}\".format(top_K_neighbors,predicted_category))\n"
   ]
  },
  {
   "cell_type": "code",
   "execution_count": 8,
   "id": "4b23103d",
   "metadata": {},
   "outputs": [
    {
     "name": "stdout",
     "output_type": "stream",
     "text": [
      "The indices of KNN are:[798 757 119 398  38 224 711 615 751  69]\n",
      "The predicted class is: 0\n"
     ]
    }
   ],
   "source": [
    "##KNN Classifier test of measure 0\n",
    "\n",
    "top_K_neighbors, predicted_category = knn_classify(DT_test[12],DT_train,10,train_lab_array,0)\n",
    "print(\"The indices of KNN are:{}\\nThe predicted class is: {}\".format(top_K_neighbors,predicted_category))\n"
   ]
  },
  {
   "cell_type": "markdown",
   "id": "4cb44bce",
   "metadata": {},
   "source": [
    "#### II.b. K-Nearest-Neighbor Classifier Evaluation Function \n",
    "\n",
    "To measure the accuracy of the above KNN classifier, the following _**knn_evaluate**_ function call the classifier function on all the test instances, and in each case compares the actual test class label in test_lab to the predicted class label. The function take as input the training data, the training labels, the test labels, the distance measure, and the value of K; and return the Classification Accuracy. "
   ]
  },
  {
   "cell_type": "code",
   "execution_count": 9,
   "id": "84ab9cb5",
   "metadata": {},
   "outputs": [],
   "source": [
    "def knn_evaluate(test, test_lab, train, train_lab, K, measure):\n",
    "    \"\"\"iterates through documents in test set, and for each instance, calls \n",
    "    knn_classify to predict the label. It compares the predicted label vs. actual label,\n",
    "    And return the classification accuracy rate\"\"\"    \n",
    "    correct=0\n",
    "    for i in range(len(test)):\n",
    "        predicted_test = list(knn_classify(test[i], train, K, train_lab, measure))\n",
    "        category = predicted_test[1]\n",
    "        if category == test_lab[i]:\n",
    "                correct +=1\n",
    "    accuracy_ratio = correct/float(len(test))\n",
    "    return accuracy_ratio\n",
    "    print(\"The classification accuracy rate is: \", accuracy_ratio)\n",
    "    "
   ]
  },
  {
   "cell_type": "code",
   "execution_count": 10,
   "id": "5d47c2cd",
   "metadata": {},
   "outputs": [
    {
     "data": {
      "text/plain": [
       "0.815"
      ]
     },
     "execution_count": 10,
     "metadata": {},
     "output_type": "execute_result"
    }
   ],
   "source": [
    "test_accuracy= knn_evaluate(DT_test, test_lab_array, DT_train ,train_lab_array,5,0)\n",
    "test_accuracy"
   ]
  },
  {
   "cell_type": "markdown",
   "id": "cf3e287b",
   "metadata": {},
   "source": [
    "#### II.c  Applying KNN Evaluate Function \n",
    "\n",
    "In order to compare accuracy values for different numbers of neighbors, the evaluation function would be run on a range of values for K from 5 to 100, with an increments of 5, for both Euclidean Distance and Cosine similarity measure. Based on the plot, with K in the x-axis and accuracy on the y-axis,the classifer using Cosine Similarity has a much higher accuracy ratio, compared to the one using Euclidean Distance, with a _**highest accuracy of 98.5% with K_value set at 10 and 15**_. \n",
    "\n",
    "On the other hand, the _**highest accuracy with Euclidean Distance is 85% with K_value set at 10**_. Looking at the plot trend, the quality of the classifer constantly decreases with the increasing amounts of neighbors, when k_value is greater than 10. Meantime, the quality of the classifer using Cosine Similarity is stable regardless of the K factor value. \n",
    "\n",
    "The reason behind the outperforming Cosine Similarity is that while the Euclidean Distance measure the distance between numerical values, the Cosine Similarity examine the angle between document vectors, _**without taking its weight or magnitude into consideration**_. Since the document datasets contains documents of uneven lengths, the Cosine Similarity is more suitable to work with text data represented by word frequency."
   ]
  },
  {
   "cell_type": "code",
   "execution_count": 11,
   "id": "587ffba7",
   "metadata": {},
   "outputs": [],
   "source": [
    "Euclid=[]\n",
    "for K in range(5,100,5):\n",
    "    Euclid.append(knn_evaluate(DT_test, test_lab_array, DT_train, train_lab_array, K, 0))"
   ]
  },
  {
   "cell_type": "code",
   "execution_count": 12,
   "id": "3056cb95",
   "metadata": {
    "scrolled": true
   },
   "outputs": [],
   "source": [
    "Cosine=[]\n",
    "for J in range(5,100,5):\n",
    "    Cosine.append(knn_evaluate(DT_test, test_lab_array, DT_train, train_lab_array, J, 1))"
   ]
  },
  {
   "cell_type": "code",
   "execution_count": 13,
   "id": "d5b359ec",
   "metadata": {
    "scrolled": false
   },
   "outputs": [
    {
     "data": {
      "image/png": "[encoded data removed]",
      "text/plain": [
       "<Figure size 800x400 with 1 Axes>"
      ]
     },
     "metadata": {},
     "output_type": "display_data"
    }
   ],
   "source": [
    "x= range(5,100,5)\n",
    "fig,ax=plt.subplots(figsize=(8,4))\n",
    "ax.plot(x,Cosine,marker=\"o\",label=\"Cosine Similarity\",)\n",
    "ax.plot(x, Euclid, marker=\"^\",label=\"Euclidean Distance\")\n",
    "ax.set(title = \"KNN Classifier Accuracy\\nNewsGroup\",\n",
    "       xlabel = \"K\",\n",
    "       ylabel = \"Accuracy\\n(Percentage)\")\n",
    "ax.legend()\n",
    "plt.xticks(np.arange(5,100,step=5))\n",
    "plt.show()"
   ]
  },
  {
   "cell_type": "markdown",
   "id": "a0ef17e8",
   "metadata": {},
   "source": [
    "#### II.d. Applying KNN Evaluate Function with TF-IDF weighted value\n",
    "\n",
    "To deal with the Zipf distribution problem, _**Term Frequency*Inverse Document Frequency**_ is applied. The method weights terms highly if they are frequent in the trainng document but infrequent in the whole collection, while providing low values for common words in the collection. \n",
    "\n",
    "The _**train_weight and test_weight**_ contains weighted value of each searched document, presented as a multi-dimensional array, with a dimension defined by _**Document*Term**_. Each row corresponds to one of the document and each column corresponds to one term, and the (i,j)th element of the matrix shows the frequency of the jth term in the ith document."
   ]
  },
  {
   "cell_type": "code",
   "execution_count": 14,
   "id": "35ac2a34",
   "metadata": {},
   "outputs": [
    {
     "name": "stdout",
     "output_type": "stream",
     "text": [
      "(800, 5500)\n"
     ]
    },
    {
     "data": {
      "text/html": [
       "<div>\n",
       "<style scoped>\n",
       "    .dataframe tbody tr th:only-of-type {\n",
       "        vertical-align: middle;\n",
       "    }\n",
       "\n",
       "    .dataframe tbody tr th {\n",
       "        vertical-align: top;\n",
       "    }\n",
       "\n",
       "    .dataframe thead th {\n",
       "        text-align: right;\n",
       "    }\n",
       "</style>\n",
       "<table border=\"1\" class=\"dataframe\">\n",
       "  <thead>\n",
       "    <tr style=\"text-align: right;\">\n",
       "      <th></th>\n",
       "      <th>0</th>\n",
       "      <th>1</th>\n",
       "      <th>2</th>\n",
       "      <th>3</th>\n",
       "      <th>4</th>\n",
       "      <th>5</th>\n",
       "      <th>6</th>\n",
       "      <th>7</th>\n",
       "      <th>8</th>\n",
       "      <th>9</th>\n",
       "      <th>...</th>\n",
       "      <th>790</th>\n",
       "      <th>791</th>\n",
       "      <th>792</th>\n",
       "      <th>793</th>\n",
       "      <th>794</th>\n",
       "      <th>795</th>\n",
       "      <th>796</th>\n",
       "      <th>797</th>\n",
       "      <th>798</th>\n",
       "      <th>799</th>\n",
       "    </tr>\n",
       "  </thead>\n",
       "  <tbody>\n",
       "    <tr>\n",
       "      <th>0</th>\n",
       "      <td>8.00</td>\n",
       "      <td>0.00</td>\n",
       "      <td>0.0</td>\n",
       "      <td>8.0</td>\n",
       "      <td>8.0</td>\n",
       "      <td>0.0</td>\n",
       "      <td>0.0</td>\n",
       "      <td>0.0</td>\n",
       "      <td>0.0</td>\n",
       "      <td>0.0</td>\n",
       "      <td>...</td>\n",
       "      <td>0.0</td>\n",
       "      <td>0.0</td>\n",
       "      <td>0.00</td>\n",
       "      <td>0.0</td>\n",
       "      <td>0.0</td>\n",
       "      <td>0.0</td>\n",
       "      <td>0.0</td>\n",
       "      <td>0.0</td>\n",
       "      <td>0.0</td>\n",
       "      <td>0.00</td>\n",
       "    </tr>\n",
       "    <tr>\n",
       "      <th>1</th>\n",
       "      <td>13.67</td>\n",
       "      <td>0.00</td>\n",
       "      <td>0.0</td>\n",
       "      <td>0.0</td>\n",
       "      <td>0.0</td>\n",
       "      <td>0.0</td>\n",
       "      <td>0.0</td>\n",
       "      <td>0.0</td>\n",
       "      <td>0.0</td>\n",
       "      <td>0.0</td>\n",
       "      <td>...</td>\n",
       "      <td>0.0</td>\n",
       "      <td>0.0</td>\n",
       "      <td>20.51</td>\n",
       "      <td>0.0</td>\n",
       "      <td>0.0</td>\n",
       "      <td>0.0</td>\n",
       "      <td>0.0</td>\n",
       "      <td>0.0</td>\n",
       "      <td>0.0</td>\n",
       "      <td>0.00</td>\n",
       "    </tr>\n",
       "    <tr>\n",
       "      <th>2</th>\n",
       "      <td>12.64</td>\n",
       "      <td>0.00</td>\n",
       "      <td>0.0</td>\n",
       "      <td>0.0</td>\n",
       "      <td>0.0</td>\n",
       "      <td>0.0</td>\n",
       "      <td>0.0</td>\n",
       "      <td>0.0</td>\n",
       "      <td>0.0</td>\n",
       "      <td>0.0</td>\n",
       "      <td>...</td>\n",
       "      <td>0.0</td>\n",
       "      <td>0.0</td>\n",
       "      <td>0.00</td>\n",
       "      <td>0.0</td>\n",
       "      <td>0.0</td>\n",
       "      <td>0.0</td>\n",
       "      <td>0.0</td>\n",
       "      <td>0.0</td>\n",
       "      <td>0.0</td>\n",
       "      <td>0.00</td>\n",
       "    </tr>\n",
       "    <tr>\n",
       "      <th>3</th>\n",
       "      <td>0.00</td>\n",
       "      <td>0.00</td>\n",
       "      <td>0.0</td>\n",
       "      <td>0.0</td>\n",
       "      <td>0.0</td>\n",
       "      <td>0.0</td>\n",
       "      <td>0.0</td>\n",
       "      <td>0.0</td>\n",
       "      <td>0.0</td>\n",
       "      <td>0.0</td>\n",
       "      <td>...</td>\n",
       "      <td>0.0</td>\n",
       "      <td>0.0</td>\n",
       "      <td>0.00</td>\n",
       "      <td>0.0</td>\n",
       "      <td>0.0</td>\n",
       "      <td>0.0</td>\n",
       "      <td>0.0</td>\n",
       "      <td>0.0</td>\n",
       "      <td>0.0</td>\n",
       "      <td>0.00</td>\n",
       "    </tr>\n",
       "    <tr>\n",
       "      <th>4</th>\n",
       "      <td>23.11</td>\n",
       "      <td>2.89</td>\n",
       "      <td>0.0</td>\n",
       "      <td>0.0</td>\n",
       "      <td>0.0</td>\n",
       "      <td>0.0</td>\n",
       "      <td>0.0</td>\n",
       "      <td>0.0</td>\n",
       "      <td>0.0</td>\n",
       "      <td>0.0</td>\n",
       "      <td>...</td>\n",
       "      <td>0.0</td>\n",
       "      <td>0.0</td>\n",
       "      <td>5.78</td>\n",
       "      <td>0.0</td>\n",
       "      <td>0.0</td>\n",
       "      <td>0.0</td>\n",
       "      <td>0.0</td>\n",
       "      <td>0.0</td>\n",
       "      <td>0.0</td>\n",
       "      <td>2.89</td>\n",
       "    </tr>\n",
       "  </tbody>\n",
       "</table>\n",
       "<p>5 rows × 800 columns</p>\n",
       "</div>"
      ],
      "text/plain": [
       "     0     1    2    3    4    5    6    7    8    9    ...  790  791    792  \\\n",
       "0   8.00  0.00  0.0  8.0  8.0  0.0  0.0  0.0  0.0  0.0  ...  0.0  0.0   0.00   \n",
       "1  13.67  0.00  0.0  0.0  0.0  0.0  0.0  0.0  0.0  0.0  ...  0.0  0.0  20.51   \n",
       "2  12.64  0.00  0.0  0.0  0.0  0.0  0.0  0.0  0.0  0.0  ...  0.0  0.0   0.00   \n",
       "3   0.00  0.00  0.0  0.0  0.0  0.0  0.0  0.0  0.0  0.0  ...  0.0  0.0   0.00   \n",
       "4  23.11  2.89  0.0  0.0  0.0  0.0  0.0  0.0  0.0  0.0  ...  0.0  0.0   5.78   \n",
       "\n",
       "   793  794  795  796  797  798   799  \n",
       "0  0.0  0.0  0.0  0.0  0.0  0.0  0.00  \n",
       "1  0.0  0.0  0.0  0.0  0.0  0.0  0.00  \n",
       "2  0.0  0.0  0.0  0.0  0.0  0.0  0.00  \n",
       "3  0.0  0.0  0.0  0.0  0.0  0.0  0.00  \n",
       "4  0.0  0.0  0.0  0.0  0.0  0.0  2.89  \n",
       "\n",
       "[5 rows x 800 columns]"
      ]
     },
     "execution_count": 14,
     "metadata": {},
     "output_type": "execute_result"
    }
   ],
   "source": [
    "#Transform data to TF-IDF weights \n",
    "## Finding doc counts for each term \n",
    "DF_train= pd.DataFrame([(train!=0).sum(1)]).T\n",
    "NDoc_train = np.ones(np.shape(train),dtype=float)*(train.shape[1])\n",
    "np.set_printoptions(precision=2,suppress=True,linewidth=120)\n",
    "IDF_train= np.log2(np.divide(NDoc_train,np.array(DF_train)))\n",
    "\n",
    "tfidf_train = train* IDF_train\n",
    "pd.set_option(\"display.precision\", 2)\n",
    "\n",
    "#KNN function expects a Document*Term Matrix as an np.array\n",
    "train_weight= np.array(tfidf_train.T)\n",
    "print(train_weight.shape)\n",
    "tfidf_train.head()"
   ]
  },
  {
   "cell_type": "code",
   "execution_count": 15,
   "id": "fe6cbf3b",
   "metadata": {},
   "outputs": [
    {
     "name": "stdout",
     "output_type": "stream",
     "text": [
      "(200, 5500)\n"
     ]
    },
    {
     "data": {
      "text/html": [
       "<div>\n",
       "<style scoped>\n",
       "    .dataframe tbody tr th:only-of-type {\n",
       "        vertical-align: middle;\n",
       "    }\n",
       "\n",
       "    .dataframe tbody tr th {\n",
       "        vertical-align: top;\n",
       "    }\n",
       "\n",
       "    .dataframe thead th {\n",
       "        text-align: right;\n",
       "    }\n",
       "</style>\n",
       "<table border=\"1\" class=\"dataframe\">\n",
       "  <thead>\n",
       "    <tr style=\"text-align: right;\">\n",
       "      <th></th>\n",
       "      <th>0</th>\n",
       "      <th>1</th>\n",
       "      <th>2</th>\n",
       "      <th>3</th>\n",
       "      <th>4</th>\n",
       "      <th>5</th>\n",
       "      <th>6</th>\n",
       "      <th>7</th>\n",
       "      <th>8</th>\n",
       "      <th>9</th>\n",
       "      <th>...</th>\n",
       "      <th>190</th>\n",
       "      <th>191</th>\n",
       "      <th>192</th>\n",
       "      <th>193</th>\n",
       "      <th>194</th>\n",
       "      <th>195</th>\n",
       "      <th>196</th>\n",
       "      <th>197</th>\n",
       "      <th>198</th>\n",
       "      <th>199</th>\n",
       "    </tr>\n",
       "  </thead>\n",
       "  <tbody>\n",
       "    <tr>\n",
       "      <th>0</th>\n",
       "      <td>0.0</td>\n",
       "      <td>0.0</td>\n",
       "      <td>3.74</td>\n",
       "      <td>0.0</td>\n",
       "      <td>0.0</td>\n",
       "      <td>0.0</td>\n",
       "      <td>0.0</td>\n",
       "      <td>0.0</td>\n",
       "      <td>0.00</td>\n",
       "      <td>0.0</td>\n",
       "      <td>...</td>\n",
       "      <td>0.0</td>\n",
       "      <td>0.0</td>\n",
       "      <td>0.0</td>\n",
       "      <td>0.0</td>\n",
       "      <td>0.0</td>\n",
       "      <td>0.0</td>\n",
       "      <td>0.0</td>\n",
       "      <td>0.0</td>\n",
       "      <td>0.0</td>\n",
       "      <td>0.0</td>\n",
       "    </tr>\n",
       "    <tr>\n",
       "      <th>1</th>\n",
       "      <td>0.0</td>\n",
       "      <td>0.0</td>\n",
       "      <td>0.00</td>\n",
       "      <td>0.0</td>\n",
       "      <td>0.0</td>\n",
       "      <td>0.0</td>\n",
       "      <td>0.0</td>\n",
       "      <td>0.0</td>\n",
       "      <td>0.00</td>\n",
       "      <td>0.0</td>\n",
       "      <td>...</td>\n",
       "      <td>0.0</td>\n",
       "      <td>0.0</td>\n",
       "      <td>0.0</td>\n",
       "      <td>0.0</td>\n",
       "      <td>0.0</td>\n",
       "      <td>0.0</td>\n",
       "      <td>0.0</td>\n",
       "      <td>0.0</td>\n",
       "      <td>0.0</td>\n",
       "      <td>0.0</td>\n",
       "    </tr>\n",
       "    <tr>\n",
       "      <th>2</th>\n",
       "      <td>0.0</td>\n",
       "      <td>0.0</td>\n",
       "      <td>0.00</td>\n",
       "      <td>0.0</td>\n",
       "      <td>0.0</td>\n",
       "      <td>0.0</td>\n",
       "      <td>0.0</td>\n",
       "      <td>0.0</td>\n",
       "      <td>0.00</td>\n",
       "      <td>0.0</td>\n",
       "      <td>...</td>\n",
       "      <td>0.0</td>\n",
       "      <td>0.0</td>\n",
       "      <td>0.0</td>\n",
       "      <td>0.0</td>\n",
       "      <td>0.0</td>\n",
       "      <td>0.0</td>\n",
       "      <td>0.0</td>\n",
       "      <td>0.0</td>\n",
       "      <td>0.0</td>\n",
       "      <td>0.0</td>\n",
       "    </tr>\n",
       "    <tr>\n",
       "      <th>3</th>\n",
       "      <td>1.0</td>\n",
       "      <td>1.0</td>\n",
       "      <td>1.00</td>\n",
       "      <td>1.0</td>\n",
       "      <td>1.0</td>\n",
       "      <td>1.0</td>\n",
       "      <td>2.0</td>\n",
       "      <td>1.0</td>\n",
       "      <td>1.00</td>\n",
       "      <td>1.0</td>\n",
       "      <td>...</td>\n",
       "      <td>1.0</td>\n",
       "      <td>2.0</td>\n",
       "      <td>1.0</td>\n",
       "      <td>1.0</td>\n",
       "      <td>1.0</td>\n",
       "      <td>1.0</td>\n",
       "      <td>1.0</td>\n",
       "      <td>1.0</td>\n",
       "      <td>1.0</td>\n",
       "      <td>1.0</td>\n",
       "    </tr>\n",
       "    <tr>\n",
       "      <th>4</th>\n",
       "      <td>0.0</td>\n",
       "      <td>0.0</td>\n",
       "      <td>0.00</td>\n",
       "      <td>0.0</td>\n",
       "      <td>0.0</td>\n",
       "      <td>0.0</td>\n",
       "      <td>0.0</td>\n",
       "      <td>0.0</td>\n",
       "      <td>5.89</td>\n",
       "      <td>0.0</td>\n",
       "      <td>...</td>\n",
       "      <td>0.0</td>\n",
       "      <td>0.0</td>\n",
       "      <td>0.0</td>\n",
       "      <td>0.0</td>\n",
       "      <td>0.0</td>\n",
       "      <td>0.0</td>\n",
       "      <td>0.0</td>\n",
       "      <td>0.0</td>\n",
       "      <td>0.0</td>\n",
       "      <td>0.0</td>\n",
       "    </tr>\n",
       "  </tbody>\n",
       "</table>\n",
       "<p>5 rows × 200 columns</p>\n",
       "</div>"
      ],
      "text/plain": [
       "   0    1     2    3    4    5    6    7     8    9    ...  190  191  192  \\\n",
       "0  0.0  0.0  3.74  0.0  0.0  0.0  0.0  0.0  0.00  0.0  ...  0.0  0.0  0.0   \n",
       "1  0.0  0.0  0.00  0.0  0.0  0.0  0.0  0.0  0.00  0.0  ...  0.0  0.0  0.0   \n",
       "2  0.0  0.0  0.00  0.0  0.0  0.0  0.0  0.0  0.00  0.0  ...  0.0  0.0  0.0   \n",
       "3  1.0  1.0  1.00  1.0  1.0  1.0  2.0  1.0  1.00  1.0  ...  1.0  2.0  1.0   \n",
       "4  0.0  0.0  0.00  0.0  0.0  0.0  0.0  0.0  5.89  0.0  ...  0.0  0.0  0.0   \n",
       "\n",
       "   193  194  195  196  197  198  199  \n",
       "0  0.0  0.0  0.0  0.0  0.0  0.0  0.0  \n",
       "1  0.0  0.0  0.0  0.0  0.0  0.0  0.0  \n",
       "2  0.0  0.0  0.0  0.0  0.0  0.0  0.0  \n",
       "3  1.0  1.0  1.0  1.0  1.0  1.0  1.0  \n",
       "4  0.0  0.0  0.0  0.0  0.0  0.0  0.0  \n",
       "\n",
       "[5 rows x 200 columns]"
      ]
     },
     "execution_count": 15,
     "metadata": {},
     "output_type": "execute_result"
    }
   ],
   "source": [
    "DF_test= pd.DataFrame([(test!=0).sum(1)]).T\n",
    "NDoc_test = np.ones(np.shape(test),dtype=float)*(test.shape[1])\n",
    "np.set_printoptions(precision=2,suppress=True,linewidth=120)\n",
    "IDF_test= np.log2(np.divide(NDoc_test,np.array(DF_test)))\n",
    "\n",
    "#Patch the hole of inf with 1\n",
    "IDF_test[(IDF_test == np.inf)|(IDF_test == 0)]=1\n",
    "IDF_test.all()\n",
    "\n",
    "tfidf_test = test* IDF_test\n",
    "pd.set_option(\"display.precision\", 2)\n",
    "tfidf_test.head()\n",
    "\n",
    "#KNN function expects a Document*Term Matrix as an np.array\n",
    "test_weight= np.array(tfidf_test.T)\n",
    "print(test_weight.shape)\n",
    "tfidf_test.head()"
   ]
  },
  {
   "cell_type": "markdown",
   "id": "e1f1a0f2",
   "metadata": {},
   "source": [
    "The resulting of testing text classification quality with using TF_IDF weight is shown below, the plot directly indicates the necessity of using weighted value. By using the weighted Cosine Similarity metric, _**the most optimal accuracy rate at 100% using 40 neighbors**_. \n",
    "\n",
    "The idea behind the TF-IDF is to dampen the effect of high-frequency words in determing the importance of a document, which allows the determination of weight for each term in each document. The _**importance of the term is increased proportionally to the number of appearing in the documents**_. Hence, the combination of KNN algorithm and TF-IDF method has been shown as a better choice in the implementation. "
   ]
  },
  {
   "cell_type": "code",
   "execution_count": 16,
   "id": "fc7eddeb",
   "metadata": {},
   "outputs": [
    {
     "data": {
      "image/png": "[encoded data removed]",
      "text/plain": [
       "<Figure size 800x400 with 1 Axes>"
      ]
     },
     "metadata": {},
     "output_type": "display_data"
    }
   ],
   "source": [
    "Cosine_weight=[]\n",
    "for P in range(5,100,5):\n",
    "    Cosine_weight.append(knn_evaluate(test_weight, test_lab_array, train_weight, train_lab_array, P, 1))\n",
    "\n",
    "fig,ax=plt.subplots(figsize=(8,4))\n",
    "ax.plot(x,Cosine,marker=\"o\",label=\"Cosine Similarity\",)\n",
    "ax.plot(x, Cosine_weight, marker=\"^\",label=\"Weighted Cosine Similarity\")\n",
    "ax.set(title = \"KNN Classifier Accuracy\\nCosine Similarity\",\n",
    "       xlabel = \"K\",\n",
    "       ylabel = \"Accuracy\\n(Percentage)\")\n",
    "ax.legend()\n",
    "plt.xticks(np.arange(5,100,step=5))\n",
    "plt.show()"
   ]
  },
  {
   "cell_type": "markdown",
   "id": "15c9d145",
   "metadata": {},
   "source": [
    "### III. Nearest Centroid Algorithm - Rocchio Method\n",
    "\n",
    "The goal of the local method for relevance feedback, _**Rocchio Method**_ is to adjust a query relative to more closely match the optimal query by maximizing similarity with relevant document, and minimizing similarity with irrelevant ones. \n",
    "\n",
    "#### III.a. Training the Rocchio Method\n",
    "\n",
    "Adapting for text categorization, the _**Rocchio_Train**_ function takes as input the training data matrix and the training labels, returning the prototype vectors for each class by summing the vector, and the tfidf value for each document term entry. "
   ]
  },
  {
   "cell_type": "code",
   "execution_count": 17,
   "id": "9b561b6f",
   "metadata": {
    "scrolled": true
   },
   "outputs": [],
   "source": [
    "def Rocchio_Train(train, train_lab):\n",
    "    train_lab.rename(columns={train_lab.columns[0]:\"Class_label\"},inplace=True)\n",
    "    prototype= pd.concat([train.T, train_lab],axis=1)\n",
    "    #Using list comprehension to return a list of dataframes, with one dataframe for each state.\n",
    "    df_list = [prototype for _, prototype in prototype.groupby(['Class_label'])]\n",
    "    \n",
    "    #Store in a dictionary\n",
    "    class_dict= {}\n",
    "    \n",
    "    for i in range(len(df_list)):\n",
    "        class_dict[i]=pd.DataFrame(df_list[i].drop(columns=\"Class_label\"))\n",
    "    \n",
    "    IDF_array=[]\n",
    "    for i in range(len(class_dict)):\n",
    "        DocCountTerm= pd.DataFrame([(class_dict[i]!=0).sum(0)])\n",
    "        \n",
    "        ##Creatring a matrix with all entries== the number of documents in class[i]\n",
    "        ##DMatrix's structure = 5500Terms* 401Docs \n",
    "        DMatrix=np.ones(np.shape(class_dict[i].T), dtype=float)*class_dict[i].T.shape[1]\n",
    "        np.set_printoptions(precision=2,suppress=True,linewidth=120)\n",
    "        \n",
    "        ##Convert entry into log of the inverse of document frequency\n",
    "        IDF_dic= np.log2(np.divide(DMatrix,np.array(DocCountTerm.T)))\n",
    "        IDF_dic[(IDF_dic==np.inf)|(IDF_dic==0)]=1\n",
    "        IDF_array.append(IDF_dic)\n",
    "        ##Compute tfidf value for each document term entry\n",
    "        ##Terms*Documents \n",
    "        class_dict[i]= class_dict[i].T*IDF_dic\n",
    "    \n",
    "    #prototype is the dictionary with unique class labels as keys and \n",
    "    #one dimensional arrays representing the prototype vectors for the class as values\n",
    "    prototype_class={}\n",
    "    for i in range(len(class_dict)):\n",
    "        pclass= np.array(np.sum(class_dict[i],axis=1))\n",
    "        prototype_class.update({i:pclass})\n",
    "\n",
    "    return prototype_class, IDF_array\n"
   ]
  },
  {
   "cell_type": "markdown",
   "id": "df16dfde",
   "metadata": {},
   "source": [
    "#### III.b. Rocchio Classifier Function\n",
    "\n",
    "The _**Rocchio_Classify**_ function take as input the training data matrix and the training labels,which later return prototypes for each class, and the new instance to be classified. The function assign the new instance to the class with the closet prototype vector based on Cosine Similarity. The function output indicate the predicted class for the test instance, in accorance with the region it falls into and the centrold that the new instance is closet to; and the similarity values of the instance to each of the category prototypes.  "
   ]
  },
  {
   "cell_type": "code",
   "execution_count": 18,
   "id": "a8ab4e97",
   "metadata": {},
   "outputs": [],
   "source": [
    "from numpy.linalg import norm\n",
    "\n",
    "def Rocchio_Classify(train,train_lab,instance):\n",
    "    prototype_class, IDF_array= Rocchio_Train(train, train_lab)\n",
    "\n",
    "    #Let init.maximum cosSim be -2 and init.preicted_label as -1(non-existence)\n",
    "    predicted_label= -1\n",
    "    cosSim_max = -2\n",
    "    \n",
    "    #Compute similarity to prototype vector with function cosine=np.dot(instance_tfidf,prototype[i])/\n",
    "    #norm(instance_tfidf)*norm(prototype[i])\n",
    "    i=0\n",
    "    for key,value in prototype_class.items():\n",
    "        # Each term in query must be multiplied by the idf value of the term \n",
    "        instance_tfidf= instance.T*((IDF_array[i].T)[0])\n",
    "        instance_tfidf= np.array(instance_tfidf)\n",
    "        cosSim = np.dot(instance_tfidf, value)/(norm(instance_tfidf)*norm(value))\n",
    "        if cosSim > cosSim_max:\n",
    "            cosSim_max = cosSim\n",
    "            predicted_label= key\n",
    "        i +=1\n",
    "    return predicted_label, cosSim_max\n"
   ]
  },
  {
   "cell_type": "code",
   "execution_count": 19,
   "id": "7eb89027",
   "metadata": {
    "scrolled": true
   },
   "outputs": [
    {
     "name": "stdout",
     "output_type": "stream",
     "text": [
      "The predicted class is:1\n",
      "The Cosine Similarity is: 0.23916517634671772\n"
     ]
    }
   ],
   "source": [
    "##Rocchio Classifier test of for instance test[3]\n",
    "\n",
    "predicted_label, cosSim_max = Rocchio_Classify(train,train_lab,test[3])\n",
    "print(\"The predicted class is:{}\\nThe Cosine Similarity is: {}\".format(predicted_label, cosSim_max))"
   ]
  },
  {
   "cell_type": "markdown",
   "id": "209e073b",
   "metadata": {},
   "source": [
    "#### III.c. Rocchio Evaluate Function\n",
    "\n",
    "The _**Rocchio_Evaluate**_ function take as input the training data matrix and the training labels,which later return prototypes for each class, testing data matrix, and the test label; and returns the accuracy ratio of the Rocchio classifer. By using the centroids for each class to define the boundaries, the Rocchio classifer returns a 98.5% accuracy rate. "
   ]
  },
  {
   "cell_type": "code",
   "execution_count": 20,
   "id": "cde8e4e9",
   "metadata": {},
   "outputs": [
    {
     "data": {
      "text/plain": [
       "0.985"
      ]
     },
     "execution_count": 20,
     "metadata": {},
     "output_type": "execute_result"
    }
   ],
   "source": [
    "def Rocchio_Evaluate(train, train_lab,test,test_lab):\n",
    "    accuracy=0\n",
    "    test_lab_array= np.array(test_lab).flatten()\n",
    "    DT_test = np.array(test.T)\n",
    "    for i in range(len(DT_test)):\n",
    "        predicted_label, CosSim = Rocchio_Classify(train, train_lab, DT_test[i])\n",
    "        if predicted_label == test_lab_array[i]:\n",
    "            accuracy+=1\n",
    "    accuracy_ratio= accuracy/float(len(test_lab))\n",
    "    return accuracy_ratio\n",
    "            \n",
    "\n",
    "Rocchio_Evaluate(train,train_lab,test, test_lab)"
   ]
  },
  {
   "cell_type": "markdown",
   "id": "ac9b40f8",
   "metadata": {},
   "source": [
    "#### III.d. Rocchio Classifer vs. kNN Classifier\n",
    "\n",
    "Based on the plot, the most optimal kNN classifer outperforms the Rocchio classifer by approximately 1.5%, while with constantly better accuracy rate regardless of the number of K. While the dataset is large and the classes may not be linearly separable, kNN can handle complex classes better than Rocchio. Hence, the Rocchio classifer has a high bias and low variance regarding the algorithm rule; while the kNN classifer has a low bias and high variance. "
   ]
  },
  {
   "cell_type": "code",
   "execution_count": 21,
   "id": "8d66c772",
   "metadata": {},
   "outputs": [
    {
     "data": {
      "image/png": "[encoded data removed]",
      "text/plain": [
       "<Figure size 800x400 with 1 Axes>"
      ]
     },
     "metadata": {},
     "output_type": "display_data"
    }
   ],
   "source": [
    "Rocchio_accuracy= [0.985]*19\n",
    "Cosine_weight=[]\n",
    "for P in range(5,100,5):\n",
    "    Cosine_weight.append(knn_evaluate(test_weight, test_lab_array, train_weight, train_lab_array, P, 1))\n",
    "\n",
    "fig,ax=plt.subplots(figsize=(8,4))\n",
    "ax.plot(x,Rocchio_accuracy,marker=\"o\",label=\"Rocchio Method Accuracy\",)\n",
    "ax.plot(x, Cosine_weight, marker=\"^\",label=\"Weighted Cosine Similarity\")\n",
    "ax.set(title = \"KNN Classifier Accuracy\\nCosine Similarity\",\n",
    "       xlabel = \"K\",\n",
    "       ylabel = \"Accuracy\\n(Percentage)\")\n",
    "ax.legend()\n",
    "plt.xticks(np.arange(5,100,step=5))\n",
    "plt.show()"
   ]
  },
  {
   "cell_type": "markdown",
   "id": "bd2145ab",
   "metadata": {},
   "source": [
    "#### III.e scikit-learn vs. Rocchio Classifer \n",
    "\n",
    "The value of 0 indicates the _**Microsoft Windows**_class, whereas the value of 1 indicates _**Hockey**_ class. Based on precision with using the NearestCentroid classifer, out of all documents identified as Hockey, _**89%**_ of them actually are. Based on the recall value, out of all documents actually labeled as Microsoft Window class, _**the model predicted correctly for 88% of those documents**_. Finally, the value of 0.94 in f1-score indicates the model has a _**94% accuracy rate**_. Comparing to the accuracy rate of 98.5% for Rocchio Classifer, NearestCentroid method in sklearn performs slightly less accurate, since the scikit-learn method does not use TF-IDF weighted value by default. "
   ]
  },
  {
   "cell_type": "code",
   "execution_count": 22,
   "id": "ec28c607",
   "metadata": {
    "scrolled": true
   },
   "outputs": [
    {
     "name": "stdout",
     "output_type": "stream",
     "text": [
      "Model Classification Report : \n",
      "              precision    recall  f1-score   support\n",
      "\n",
      "           0       1.00      0.88      0.94        99\n",
      "           1       0.89      1.00      0.94       101\n",
      "\n",
      "    accuracy                           0.94       200\n",
      "   macro avg       0.95      0.94      0.94       200\n",
      "weighted avg       0.95      0.94      0.94       200\n",
      "\n"
     ]
    }
   ],
   "source": [
    "from sklearn.neighbors import NearestCentroid\n",
    "from sklearn.metrics import classification_report\n",
    "model= NearestCentroid()\n",
    "model.fit(DT_train, train_lab_array)\n",
    "\n",
    "# Printing classification report of classifier on the test set set data\n",
    "print(\n",
    "    f\"Model Classification Report : \\n{classification_report(test_lab_array, model.predict(DT_test))}\")"
   ]
  }
 ],
 "metadata": {
  "kernelspec": {
   "display_name": "Python 3 (ipykernel)",
   "language": "python",
   "name": "python3"
  },
  "language_info": {
   "codemirror_mode": {
    "name": "ipython",
    "version": 3
   },
   "file_extension": ".py",
   "mimetype": "text/x-python",
   "name": "python",
   "nbconvert_exporter": "python",
   "pygments_lexer": "ipython3",
   "version": "3.9.13"
  }
 },
 "nbformat": 4,
 "nbformat_minor": 5
}
